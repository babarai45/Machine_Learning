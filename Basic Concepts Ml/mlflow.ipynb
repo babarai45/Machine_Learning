{
 "cells": [
  {
   "cell_type": "markdown",
   "metadata": {},
   "source": [
    "# All Hirarecy of Machine Learning Engineer\n",
    "- [Machine Learning Engineer](#machine-learning-engineer)\n",
    "  - [Data Science](#data-science)\n",
    "    - [Data Analysis](#data-analysis)\n",
    "    - [Data Visualization](#data-visualization)\n",
    "    - [Data Preprocessing](#data-preprocessing)\n",
    "    - [Feature Engineering](#feature-engineering)\n",
    "    - [Model Selection](#model-selection)\n",
    "    - [Model Evaluation](#model-evaluation)\n",
    "    - [Model Deployment](#model-deployment)\n",
    "  - [Machine Learning](#machine-learning)\n",
    "    - [Supervised Learning](#supervised-learning)\n",
    "    - [Unsupervised Learning](#unsupervised-learning)\n",
    "    - [Reinforcement Learning](#reinforcement-learning)\n",
    "    - [Deep Learning](#deep-learning)\n",
    "    - [Transfer Learning](#transfer-learning)\n",
    "    - [Ensemble Learning](#ensemble-learning)\n",
    "    - [Hyperparameter Tuning](#hyperparameter-tuning)\n",
    "    - [Model Interpretability](#model-interpretability)\n",
    "  - [Software Engineering](#software-engineering)\n",
    "    - [Version Control](#version-control)\n",
    "    - [Software Development](#software-development)\n",
    "    - [Software Testing](#software-testing)\n",
    "    - [Software Deployment](#software-deployment)\n",
    "    - [Containerization](#containerization)\n",
    "    - [Continuous Integration/Continuous Deployment](#continuous-integrationcontinuous-deployment)\n",
    "    - [Monitoring](#monitoring)\n",
    "  - [Mathematics](#mathematics)\n",
    "    - [Linear Algebra](#linear-algebra)\n",
    "    - [Calculus](#calculus)\n",
    "    - [Probability and Statistics](#probability-and-statistics)\n",
    "    - [Optimization](#optimization)\n",
    "  - [Computer Science](#computer-science)\n",
    "    - [Data Structures](#data-structures)\n",
    "    - [Algorithms](#algorithms)\n",
    "    - [Complexity Theory](#complexity-theory)\n",
    "    - [Computer Architecture](#computer-architecture)\n",
    "    - [Operating Systems](#operating-systems)\n",
    "    - [Databases](#databases)\n",
    "    - [Networking](#networking)\n",
    "    - [Security](#security)\n",
    "  - [Domain Knowledge](#domain-knowledge)\n",
    "    - [Healthcare](#healthcare)\n",
    "    - [Finance](#finance)\n",
    "    - [E-commerce](#e-commerce)\n",
    "    - [Education](#education)\n",
    "    - [Automotive](#automotive)"
   ]
  },
  {
   "cell_type": "markdown",
   "metadata": {},
   "source": []
  }
 ],
 "metadata": {
  "language_info": {
   "name": "python"
  }
 },
 "nbformat": 4,
 "nbformat_minor": 2
}
